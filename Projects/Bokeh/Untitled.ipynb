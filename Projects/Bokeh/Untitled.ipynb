{
 "cells": [
  {
   "cell_type": "code",
   "execution_count": 2,
   "metadata": {},
   "outputs": [],
   "source": [
    "from bokeh.plotting import figure, output_file, show\n",
    "import pandas\n",
    "\n",
    "df = pandas.DataFrame(columns=[\"X\", \"Y\"])\n",
    "df[\"X\"]=[1, 2, 3, 4]\n",
    "df[\"Y\"]=[11, 12, 13, 14]\n",
    "\n",
    "\n",
    "plot = figure(plot_width=300, plot_height=300)\n",
    "plot.scatter(x=df[\"X\"], y=df[\"Y\"], size=4, color=\"navy\", name=\"TEST\")\n",
    "#plot.line(x=df[\"X\"], y=df[\"Y\"]-1, line_width=2, color=\"red\")\n",
    "output_file(\"figure_method_.html\")\n",
    "show(plot)"
   ]
  }
 ],
 "metadata": {
  "kernelspec": {
   "display_name": "Python 3",
   "language": "python",
   "name": "python3"
  },
  "language_info": {
   "codemirror_mode": {
    "name": "ipython",
    "version": 3
   },
   "file_extension": ".py",
   "mimetype": "text/x-python",
   "name": "python",
   "nbconvert_exporter": "python",
   "pygments_lexer": "ipython3",
   "version": "3.6.3"
  }
 },
 "nbformat": 4,
 "nbformat_minor": 2
}

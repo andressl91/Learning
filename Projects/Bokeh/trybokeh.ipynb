{
 "cells": [
  {
   "cell_type": "code",
   "execution_count": 11,
   "metadata": {},
   "outputs": [],
   "source": [
    "#bokeh.models #low level detailed\n",
    "#bokeh.plotting #med\n",
    "#bokey.charts #high level"
   ]
  },
  {
   "cell_type": "code",
   "execution_count": 44,
   "metadata": {},
   "outputs": [
    {
     "name": "stderr",
     "output_type": "stream",
     "text": [
      "E-1001 (BAD_COLUMN_NAME): Glyph refers to nonexistent column name: data1, data2 [renderer: GlyphRenderer(id='6f6f0a10-6f15-483c-b9e2-4b64693ebe1d', ...)]\n",
      "E-1001 (BAD_COLUMN_NAME): Glyph refers to nonexistent column name: data1, data2 [renderer: GlyphRenderer(id='bfe65851-c85e-40ee-b289-f35b43df507e', ...)]\n"
     ]
    }
   ],
   "source": [
    "from bokeh.plotting import figure, output_file, show\n",
    "import pandas\n",
    "\n",
    "df = pandas.DataFrame(columns=[\"X\", \"Y\"])\n",
    "df[\"X\"]=[1, 2, 3, 4]\n",
    "df[\"Y\"]=[11, 12, 13, 14]\n",
    "\n",
    "\n",
    "plot = figure(plot_width=300, plot_height=300)\n",
    "plot.scatter(x=df[\"X\"], y=df[\"Y\"], size=4, color=\"navy\", name=\"TEST\")\n",
    "#plot.line(x=df[\"X\"], y=df[\"Y\"]-1, line_width=2, color=\"red\")\n",
    "output_file(\"Scatter_charts.html\")\n",
    "show(plot)\n",
    "\n",
    "\n"
   ]
  },
  {
   "cell_type": "code",
   "execution_count": null,
   "metadata": {},
   "outputs": [],
   "source": [
    "from bokeh.plotting import figure, output_file, show\n",
    "import pandas\n",
    "\n",
    "df = pandas.DataFrame(columns=[\"X\", \"Y\"])\n",
    "df[\"X\"]=[1, 2, 3, 4]\n",
    "df[\"Y\"]=[11, 12, 13, 14]\n",
    "\n",
    "\n",
    "p = figure(plot_width=500, plot_height=400)\n",
    "p.circle([], [])\n",
    "p.scatter(x=df[\"X\"], y=df[\"Y\"], size=4, color=\"navy\", name=\"TEST\")\n",
    "#plot.line(x=df[\"X\"], y=df[\"Y\"]-1, line_width=2, color=\"red\")\n",
    "output_file(\"Scatter_charts.html\")\n",
    "show(plot)\n",
    "\n",
    "\n"
   ]
  }
 ],
 "metadata": {
  "kernelspec": {
   "display_name": "Python 3",
   "language": "python",
   "name": "python3"
  },
  "language_info": {
   "codemirror_mode": {
    "name": "ipython",
    "version": 3
   },
   "file_extension": ".py",
   "mimetype": "text/x-python",
   "name": "python",
   "nbconvert_exporter": "python",
   "pygments_lexer": "ipython3",
   "version": "3.6.3"
  }
 },
 "nbformat": 4,
 "nbformat_minor": 2
}
